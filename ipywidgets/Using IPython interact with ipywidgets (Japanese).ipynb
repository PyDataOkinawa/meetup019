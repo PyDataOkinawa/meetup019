{
 "cells": [
  {
   "cell_type": "markdown",
   "metadata": {},
   "source": [
    "## IPythonでインタラクティブな図を作ろう\n",
    "\n",
    "#### 改訂版：2016/11/14"
   ]
  },
  {
   "cell_type": "markdown",
   "metadata": {},
   "source": [
    "IPythonでインタラクティブな図を作る方法を紹介します。一番簡単なのはインタラクティブなUIを自動的に作成する`interact`関数 (`ipywidgets.interact`) を使う方法です。\n",
    "\n",
    "* 注１）この記事よりもう少し詳しい説明は [Interactの使い方](http://nbviewer.ipython.org/gist/tanemaki/de772cdbea35db2d9a23#) としてnbviewerにまとめておきましたので、興味のある方はそちらもどうぞ（この情報は少し古いので適宜読み替えて下さい。モジュールの読み込み方とウィジェットの名前が変更されています）。\n",
    "\n",
    "* 注２）この記事のIPython Notebookはそのままnbviewerからダウンロードできます。インタラクティブな描画を手軽に試したい方はどうぞ"
   ]
  },
  {
   "cell_type": "markdown",
   "metadata": {},
   "source": [
    "最初に必要となるモジュールを読み込みます。"
   ]
  },
  {
   "cell_type": "code",
   "execution_count": 1,
   "metadata": {
    "collapsed": false
   },
   "outputs": [],
   "source": [
    "from __future__ import print_function\n",
    "from ipywidgets import interact, interactive, fixed, widgets\n",
    "\n",
    "# 昔のやり方\n",
    "# from IPython.html.widgets import interact, interactive, fixed\n",
    "# from IPython.html import widgets"
   ]
  },
  {
   "cell_type": "markdown",
   "metadata": {},
   "source": [
    "その上で、まずはインタラクティブに操作したい関数を定義します。"
   ]
  },
  {
   "cell_type": "code",
   "execution_count": 2,
   "metadata": {
    "collapsed": false
   },
   "outputs": [],
   "source": [
    "def f(x):\n",
    "    print(x)"
   ]
  },
  {
   "cell_type": "markdown",
   "metadata": {},
   "source": [
    "次に、`interact`関数の第一引数に操作したい関数を渡し、キーワード引数としてそれっぽい引数（widget abbreviation）を渡します。たったこれだけです。下のコードを実行するとスライダーが現れ、クリクリできて楽しいです。"
   ]
  },
  {
   "cell_type": "code",
   "execution_count": 3,
   "metadata": {
    "collapsed": false
   },
   "outputs": [
    {
     "name": "stdout",
     "output_type": "stream",
     "text": [
      "0\n"
     ]
    }
   ],
   "source": [
    "interact(f, x=(-10, 10, 2));"
   ]
  },
  {
   "cell_type": "markdown",
   "metadata": {},
   "source": [
    "んで、上と下はまったく同義。上がwidget abbreviationを渡す方法で、下がwidgetのインスタンスを渡す方法です。"
   ]
  },
  {
   "cell_type": "code",
   "execution_count": 4,
   "metadata": {
    "collapsed": false
   },
   "outputs": [
    {
     "name": "stdout",
     "output_type": "stream",
     "text": [
      "0\n"
     ]
    }
   ],
   "source": [
    "interact(f, x=widgets.IntSlider(min=-10, max=10, step=2, value=0));"
   ]
  },
  {
   "cell_type": "markdown",
   "metadata": {},
   "source": [
    "初期値を設定したい場合は`interact`をデコレータとして使います。"
   ]
  },
  {
   "cell_type": "code",
   "execution_count": 5,
   "metadata": {
    "collapsed": false
   },
   "outputs": [
    {
     "name": "stdout",
     "output_type": "stream",
     "text": [
      "8\n"
     ]
    }
   ],
   "source": [
    "@interact(x=(-10, 10, 2))\n",
    "def g(x=8):\n",
    "    print(x)"
   ]
  },
  {
   "cell_type": "markdown",
   "metadata": {},
   "source": [
    "代表的なウィジェットには以下のようなものがあります。`interact`関数のキーワード引数に渡すのは、左側のそれっぽい引数（widget abbreviation）か、右側のwidgetのインスタンスのどちらかです。\n",
    "\n",
    "| キーワード引数 | ウィジェット |\n",
    "|:-- |:--|\n",
    "| `True` or `False` | `Checkbox` |\n",
    "| `u'こんにちは世界！'` | `Textarea` |\n",
    "| 整数を用いた `value` or `(min,max)` or `(min,max,step)` | \t `IntSlider` |\n",
    "| 実数を用いた `value` or `(min,max)` or `(min,max,step)` |\t `FloatSlider` |\n",
    "| `('orange','apple')` or `{'one':1,'two':2}`|\t`Dropdown` |"
   ]
  },
  {
   "cell_type": "markdown",
   "metadata": {},
   "source": [
    "描画と合わせると、さらにクリクリするのが楽しくなります。以下の図は $y = A\\,sin(\\omega x + \\alpha)$ をダイナミックに描画するデモです。$A \\in [0.1, 4.0], \\omega \\in [0.1, 4.0], \\alpha \\in [-\\pi, \\pi]$という３つのパラメータをスライダーで変化させると、それにあわせて図が変化します。こりゃ楽しい！"
   ]
  },
  {
   "cell_type": "code",
   "execution_count": 6,
   "metadata": {
    "collapsed": true
   },
   "outputs": [],
   "source": [
    "%matplotlib inline\n",
    "import matplotlib.pyplot as plt\n",
    "import numpy as np\n",
    "from collections import OrderedDict"
   ]
  },
  {
   "cell_type": "code",
   "execution_count": 7,
   "metadata": {
    "collapsed": false
   },
   "outputs": [
    {
     "data": {
      "image/png": "[encoded data removed]",
      "text/plain": [
       "<matplotlib.figure.Figure at 0x1092a9d10>"
      ]
     },
     "metadata": {},
     "output_type": "display_data"
    }
   ],
   "source": [
    "@interact(amp=(0.1, 4.0, 0.1), omega=(0.1, 4.0, 0.1), phase=(-np.pi, np.pi, 0.1), \n",
    "          fn = OrderedDict((('sin', np.sin), ('cos', np.cos), ('tan', np.tan))))\n",
    "def h(amp=1.0, omega=1.0, phase=0.0, fn=np.sin):\n",
    "    domain=[-np.pi, np.pi]\n",
    "    x = np.linspace(domain[0], domain[1], 100)\n",
    "    y  = amp * fn(omega * x + phase)\n",
    "    plt.plot(x, y)\n",
    "    plt.plot(-phase/omega, 0, 'or')\n",
    "    plt.xlim(domain)\n",
    "    plt.ylim([-4, 4])"
   ]
  }
 ],
 "metadata": {
  "anaconda-cloud": {},
  "kernelspec": {
   "display_name": "Python [default]",
   "language": "python",
   "name": "python2"
  },
  "language_info": {
   "codemirror_mode": {
    "name": "ipython",
    "version": 2
   },
   "file_extension": ".py",
   "mimetype": "text/x-python",
   "name": "python",
   "nbconvert_exporter": "python",
   "pygments_lexer": "ipython2",
   "version": "2.7.11"
  },
  "widgets": {
   "state": {
    "04f5ee08797b484cb4e7eb8ca51c28ca": {
     "views": [
      {
       "cell_index": 15
      }
     ]
    },
    "0905755ab8f045e1a67c9d3e32d18564": {
     "views": [
      {
       "cell_index": 7
      }
     ]
    },
    "cb04ed2afe814a9c8f7093b32c8f8e2b": {
     "views": [
      {
       "cell_index": 9
      }
     ]
    },
    "d766aef5edda41d68624e47531cfefad": {
     "views": [
      {
       "cell_index": 11
      }
     ]
    }
   },
   "version": "1.2.0"
  }
 },
 "nbformat": 4,
 "nbformat_minor": 0
}
