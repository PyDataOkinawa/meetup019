{
 "cells": [
  {
   "cell_type": "markdown",
   "metadata": {},
   "source": [
    "# ipywidgets tutorial"
   ]
  },
  {
   "cell_type": "markdown",
   "metadata": {},
   "source": [
    "## Useful Resources\n",
    "\n",
    "- Using interact ([English](http://nbviewer.jupyter.org/github/melund/ipython/blob/master/examples/Interactive%20Widgets/Using%20Interact.ipynb#), [Japanese](http://nbviewer.jupyter.org/gist/tanemaki/de772cdbea35db2d9a23#))\n",
    "- [ipywidgets @ GitHub](https://github.com/ipython/ipywidgets)\n",
    "- [Static Interactive Widgets for IPython Notebooks](https://jakevdp.github.io/blog/2013/12/05/static-interactive-widgets/)\n",
    "- [IPythonでクリクリできる図を作ろう](http://qiita.com/tanemaki/items/e965cd9c25acbeed860c)"
   ]
  },
  {
   "cell_type": "markdown",
   "metadata": {},
   "source": [
    "## Introduction to widgets in ipython"
   ]
  },
  {
   "cell_type": "markdown",
   "metadata": {},
   "source": [
    "Load necessary modules."
   ]
  },
  {
   "cell_type": "code",
   "execution_count": 1,
   "metadata": {
    "collapsed": true
   },
   "outputs": [],
   "source": [
    "from __future__ import print_function\n",
    "\n",
    "# New syntax\n",
    "from ipywidgets import interact, interactive, fixed, widgets\n",
    "\n",
    "# Old syntax\n",
    "# from IPython.html.widgets import interact, interactive, fixed\n",
    "# from IPython.html import widgets"
   ]
  },
  {
   "cell_type": "markdown",
   "metadata": {},
   "source": [
    "Define a function you would like to interact."
   ]
  },
  {
   "cell_type": "code",
   "execution_count": 2,
   "metadata": {
    "collapsed": true
   },
   "outputs": [],
   "source": [
    "def f(x):\n",
    "    print(x)"
   ]
  },
  {
   "cell_type": "markdown",
   "metadata": {},
   "source": [
    "Pass the function you would like to interact to the first argument of the `interact` function. Second argument can take either a widget abbreviation or a widget instance."
   ]
  },
  {
   "cell_type": "code",
   "execution_count": 3,
   "metadata": {
    "collapsed": false
   },
   "outputs": [
    {
     "name": "stdout",
     "output_type": "stream",
     "text": [
      "0\n"
     ]
    }
   ],
   "source": [
    "# Using a widget abbreviation\n",
    "interact(f, x=(-10, 10, 2));"
   ]
  },
  {
   "cell_type": "markdown",
   "metadata": {},
   "source": [
    "The following code and the previous code do exactly the same thing."
   ]
  },
  {
   "cell_type": "code",
   "execution_count": 4,
   "metadata": {
    "collapsed": false
   },
   "outputs": [
    {
     "name": "stdout",
     "output_type": "stream",
     "text": [
      "8\n"
     ]
    },
    {
     "data": {
      "text/plain": [
       "<function __main__.f>"
      ]
     },
     "execution_count": 4,
     "metadata": {},
     "output_type": "execute_result"
    }
   ],
   "source": [
    "# Using a widget instance\n",
    "interact(f, x=widgets.IntSlider(min=-10, max=10, step=2, value=8))"
   ]
  },
  {
   "cell_type": "markdown",
   "metadata": {},
   "source": [
    "If you would like to specify the initial value, you can also use `interact` as a decorator."
   ]
  },
  {
   "cell_type": "code",
   "execution_count": 5,
   "metadata": {
    "collapsed": false
   },
   "outputs": [
    {
     "name": "stdout",
     "output_type": "stream",
     "text": [
      "8\n"
     ]
    }
   ],
   "source": [
    "@interact(x=(-10, 10, 2))\n",
    "def g(x=8):\n",
    "    print(x)"
   ]
  },
  {
   "cell_type": "markdown",
   "metadata": {},
   "source": [
    "Here is a list of some widgets. For the keyword argument of `interact` function, you can pass either a widget abbereviation or a widget instance.\n",
    "\n",
    "| Widget Abbreviation | Widget Instance |\n",
    "|:-- |:--|\n",
    "| `True` or `False` | `Checkbox` |\n",
    "| `'Hello World!'` | `Textarea` |\n",
    "| Interger value or `(min,max)` or `(min,max,step)` | \t `IntSlider` |\n",
    "| Float value or `(min,max)` or `(min,max,step)` |\t `FloatSlider` |\n",
    "| `('orange','apple')` or `{'one':1,'two':2}`|\t`Dropdown` |"
   ]
  },
  {
   "cell_type": "code",
   "execution_count": 6,
   "metadata": {
    "collapsed": false,
    "scrolled": true
   },
   "outputs": [
    {
     "name": "stdout",
     "output_type": "stream",
     "text": [
      "True\n"
     ]
    },
    {
     "data": {
      "text/plain": [
       "<function __main__.f>"
      ]
     },
     "execution_count": 6,
     "metadata": {},
     "output_type": "execute_result"
    }
   ],
   "source": [
    "interact(f, x=True)"
   ]
  },
  {
   "cell_type": "code",
   "execution_count": 7,
   "metadata": {
    "collapsed": false,
    "scrolled": false
   },
   "outputs": [
    {
     "name": "stdout",
     "output_type": "stream",
     "text": [
      "Hello world!\n"
     ]
    },
    {
     "data": {
      "text/plain": [
       "<function __main__.f>"
      ]
     },
     "execution_count": 7,
     "metadata": {},
     "output_type": "execute_result"
    }
   ],
   "source": [
    "interact(f, x=\"Hello world!\")"
   ]
  },
  {
   "cell_type": "code",
   "execution_count": 8,
   "metadata": {
    "collapsed": false
   },
   "outputs": [
    {
     "name": "stdout",
     "output_type": "stream",
     "text": [
      "orange\n"
     ]
    },
    {
     "data": {
      "text/plain": [
       "<function __main__.f>"
      ]
     },
     "execution_count": 8,
     "metadata": {},
     "output_type": "execute_result"
    }
   ],
   "source": [
    "interact(f, x=('orange', 'apple', 'grape'))"
   ]
  },
  {
   "cell_type": "markdown",
   "metadata": {},
   "source": [
    "### Fixing arguments using `fixed`"
   ]
  },
  {
   "cell_type": "code",
   "execution_count": 9,
   "metadata": {
    "collapsed": false
   },
   "outputs": [
    {
     "name": "stdout",
     "output_type": "stream",
     "text": [
      "10 20\n"
     ]
    },
    {
     "data": {
      "text/plain": [
       "<function __main__.h>"
      ]
     },
     "execution_count": 9,
     "metadata": {},
     "output_type": "execute_result"
    }
   ],
   "source": [
    "def h(p, q):\n",
    "    print(p, q)\n",
    "\n",
    "interact(h, p=10, q=fixed(20))"
   ]
  },
  {
   "cell_type": "markdown",
   "metadata": {
    "collapsed": true
   },
   "source": [
    "### Using `interactive`\n",
    "\n",
    "- `interact`: value specification and plotting are entangled\n",
    "- `interactive`:  value specification and plotting are separeted"
   ]
  },
  {
   "cell_type": "code",
   "execution_count": 10,
   "metadata": {
    "collapsed": true
   },
   "outputs": [],
   "source": [
    "def f(a, b):\n",
    "    return a + b"
   ]
  },
  {
   "cell_type": "code",
   "execution_count": 11,
   "metadata": {
    "collapsed": true
   },
   "outputs": [],
   "source": [
    "w = interactive(f, a=10, b=20)"
   ]
  },
  {
   "cell_type": "code",
   "execution_count": 12,
   "metadata": {
    "collapsed": false
   },
   "outputs": [
    {
     "data": {
      "text/plain": [
       "ipywidgets.widgets.widget_box.Box"
      ]
     },
     "execution_count": 12,
     "metadata": {},
     "output_type": "execute_result"
    }
   ],
   "source": [
    "type(w)"
   ]
  },
  {
   "cell_type": "code",
   "execution_count": 13,
   "metadata": {
    "collapsed": false
   },
   "outputs": [
    {
     "data": {
      "text/plain": [
       "(<ipywidgets.widgets.widget_int.IntSlider at 0x107c437d0>,\n",
       " <ipywidgets.widgets.widget_int.IntSlider at 0x107c43850>)"
      ]
     },
     "execution_count": 13,
     "metadata": {},
     "output_type": "execute_result"
    }
   ],
   "source": [
    "w.children"
   ]
  },
  {
   "cell_type": "code",
   "execution_count": 14,
   "metadata": {
    "collapsed": false
   },
   "outputs": [
    {
     "data": {
      "text/plain": [
       "30"
      ]
     },
     "metadata": {},
     "output_type": "display_data"
    }
   ],
   "source": [
    "from IPython.display import display\n",
    "display(w)"
   ]
  },
  {
   "cell_type": "code",
   "execution_count": 15,
   "metadata": {
    "collapsed": false
   },
   "outputs": [
    {
     "data": {
      "text/plain": [
       "{'a': 10, 'b': 20}"
      ]
     },
     "execution_count": 15,
     "metadata": {},
     "output_type": "execute_result"
    }
   ],
   "source": [
    "w.kwargs"
   ]
  },
  {
   "cell_type": "code",
   "execution_count": 16,
   "metadata": {
    "collapsed": false
   },
   "outputs": [
    {
     "data": {
      "text/plain": [
       "30"
      ]
     },
     "execution_count": 16,
     "metadata": {},
     "output_type": "execute_result"
    }
   ],
   "source": [
    "w.result"
   ]
  },
  {
   "cell_type": "markdown",
   "metadata": {
    "collapsed": true
   },
   "source": [
    "## Example 1: Sinusoidal wave"
   ]
  },
  {
   "cell_type": "code",
   "execution_count": 17,
   "metadata": {
    "collapsed": true
   },
   "outputs": [],
   "source": [
    "%matplotlib inline\n",
    "import matplotlib.pyplot as plt\n",
    "import numpy as np\n",
    "from collections import OrderedDict"
   ]
  },
  {
   "cell_type": "code",
   "execution_count": 18,
   "metadata": {
    "collapsed": false
   },
   "outputs": [
    {
     "data": {
      "image/png": "[encoded data removed]",
      "text/plain": [
       "<matplotlib.figure.Figure at 0x1092d2490>"
      ]
     },
     "metadata": {},
     "output_type": "display_data"
    }
   ],
   "source": [
    "@interact(amp=(0.1, 4.0, 0.1), omega=(0.1, 4.0, 0.1), phase=(-np.pi, np.pi, 0.1), \n",
    "          fn = OrderedDict((('sin', np.sin), ('cos', np.cos), ('tan', np.tan))))\n",
    "def h(amp=1.0, omega=1.0, phase=0.0, fn=np.sin):\n",
    "    domain=[-np.pi, np.pi]\n",
    "    x = np.linspace(domain[0], domain[1], 100)\n",
    "    y  = amp * fn(omega * x + phase)\n",
    "    plt.plot(x, y)\n",
    "    plt.plot(-phase/omega, 0, 'or')\n",
    "    plt.xlim(domain)\n",
    "    plt.ylim([-4, 4])"
   ]
  },
  {
   "cell_type": "markdown",
   "metadata": {},
   "source": [
    "## Example 2: Taylor expansion\n",
    "\n",
    "\\begin{align}\n",
    "f(x) &= \\sum_{n=0}^{\\infty} \\frac{f^{(n)}(x_{0})}{n!} (x - x_{0})^{n} \\\\\n",
    "f(x) &= \\frac{f^{(0)}(x_{0})}{0!}(x - x_{0})^{0} + \\frac{f^{(1)}(x_{0})}{1!}(x - x_{0})^{1} + \\frac{f^{(2)} (x_{0})}{2!}  (x - x_{0})^{2} + \\frac{f^{(3)} (x_{0})}{3!}  (x - x_{0})^{3} + \\cdots \\\\\n",
    "&=f(x_{0}) + f^{(1)}(x_{0})(x - x_{0}) + \\frac{f^{(2)} (x_{0})}{2!}  (x - x_{0})^{2} + \\frac{f^{(3)} (x_{0})}{3!}  (x - x_{0})^{3} + \\cdots\n",
    "\\end{align}"
   ]
  },
  {
   "cell_type": "markdown",
   "metadata": {},
   "source": [
    "### Particular equation\n",
    "\n",
    "\\begin{align}\n",
    "f(x) &= 0.05 x^{4} + 0.2 x^{3} - 0.3 x^{2} - 2.0 x + 5.0 \\\\\n",
    "\\end{align}\n",
    "\n",
    "\\begin{align}\n",
    "f^{(0)}(x) &= f(x) = 0.05 x^{4} + 0.2 x^{3} - 0.3 x^{2} - 2.0 x + 5.0 \\\\\n",
    "f^{(1)}(x) &= 0.2 x^{3} + 0.6 x^{2} - 0.6 x - 2.0 \\\\\n",
    "f^{(2)}(x) &= 0.6 x^{2} + 1.2 x - 0.6 \\\\\n",
    "f^{(3)}(x) &= 1.2 x + 1.2 \\\\\n",
    "f^{(4)}(x) &= 1.2\\\\\n",
    "\\end{align}"
   ]
  },
  {
   "cell_type": "code",
   "execution_count": 19,
   "metadata": {
    "collapsed": false
   },
   "outputs": [
    {
     "data": {
      "image/png": "[encoded data removed]",
      "text/plain": [
       "<matplotlib.figure.Figure at 0x1092d0550>"
      ]
     },
     "metadata": {},
     "output_type": "display_data"
    }
   ],
   "source": [
    "@interact(x0 = (-6, 4, 0.1), order=widgets.Dropdown(options=['1st', '2nd', '3rd', '4th'], value='1st'))\n",
    "def f(x0, order):\n",
    "    xs = np.linspace(-6, 4, 100);\n",
    "    f = lambda x: 0.05 * x ** 4 + 0.2 * x ** 3 - 0.3 * x ** 2 - 2.0 * x + 5\n",
    "    f1 = lambda x: 0.2 * x ** 3 + 0.6 * x ** 2 - 0.6 * x - 2.0\n",
    "    f2 = lambda x: 0.6 * x ** 2 + 1.2 * x - 0.6\n",
    "    f3 = lambda x: 1.2 * x + 1.2\n",
    "    f4 = lambda x: 1.2\n",
    "    plt.plot(xs, f(xs))\n",
    "    if order == '1st':\n",
    "        # 1st order Taylor expansion\n",
    "        plt.plot(xs, f(x0) + f1(x0) * (xs - x0))\n",
    "    elif order == '2nd':\n",
    "        # 2nd order Taylor expansion\n",
    "        plt.plot(xs, f(x0) + f1(x0) * (xs - x0) + 0.5 * f2(x0) * (xs - x0) ** 2)\n",
    "    elif order == '3rd':\n",
    "        # 3rd order Taylor expansion\n",
    "        plt.plot(xs, f(x0) + f1(x0) * (xs - x0) + 0.5 * f2(x0) * (xs - x0) ** 2 + (1.0 / 6.0) *  f3(x0) * (xs - x0) ** 3)\n",
    "    elif order == '4th':\n",
    "        # 4th order Taylor expansion\n",
    "        plt.plot(xs, f(x0) + f1(x0) * (xs - x0) + 0.5 * f2(x0) * (xs - x0) ** 2 + (1.0 / 6.0) *  f3(x0) * (xs - x0) ** 3 + (1.0 / 24.0) * f4(x0) * (xs - x0) ** 4)\n",
    "    plt.plot(x0, f(x0), 'ro')\n",
    "    plt.ylim(-20, 40)"
   ]
  }
 ],
 "metadata": {
  "anaconda-cloud": {},
  "kernelspec": {
   "display_name": "Python [default]",
   "language": "python",
   "name": "python2"
  },
  "language_info": {
   "codemirror_mode": {
    "name": "ipython",
    "version": 2
   },
   "file_extension": ".py",
   "mimetype": "text/x-python",
   "name": "python",
   "nbconvert_exporter": "python",
   "pygments_lexer": "ipython2",
   "version": "2.7.11"
  }
 },
 "nbformat": 4,
 "nbformat_minor": 0
}
